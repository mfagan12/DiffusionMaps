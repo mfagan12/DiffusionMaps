{
 "cells": [
  {
   "cell_type": "markdown",
   "metadata": {},
   "source": [
    "# Diffusion Maps: A scikit-learn transformer implementation"
   ]
  },
  {
   "cell_type": "markdown",
   "metadata": {},
   "source": [
    "## What is diffusion maps?"
   ]
  },
  {
   "cell_type": "markdown",
   "metadata": {},
   "source": [
    "### Idea"
   ]
  },
  {
   "cell_type": "markdown",
   "metadata": {},
   "source": [
    "Diffusion maps is a non-linear dimensionality reduction technique. It begins with the assumption that the data lies near some submanifold of feature space. The algorithm then tries to learn a low-dimensional embedding of the data by learning distances between points within the underlying manifold via a diffusion process. Two points are near each other in the manifold if there are a large number of ways to reach one point from the other via short, high-probability jumps between points, as opposed to long-distance jumps in the underlying feature space.\n",
    "\n",
    "Diffusion maps has the following nice features:\n",
    "* It is topology-preserving\n",
    "* It is geometry-preserving.\n",
    "* It is computationally inexpensive compared to similar algorithms.\n",
    "* It is robust against noise."
   ]
  },
  {
   "cell_type": "markdown",
   "metadata": {},
   "source": [
    "### Algorithm"
   ]
  },
  {
   "cell_type": "markdown",
   "metadata": {},
   "source": [
    "Given a data set $X$ with observations arranged in columns and one row per feature:\n",
    "1. Select a symmetric, positive semidefinite kernel function $k(x,y)$. A common choice is the Gaussian kernel:\n",
    "$$ k(x,y) = \\exp \\left( - \\frac{||x - y||^2}{\\epsilon} \\right) $$\n",
    "2. Compute the kernel matrix $K$ by applying the kernel to all pairs of data vectors: $K^{ij} = k(X^{(i)}, X^{(j)})$\n",
    "3. Normalize the rows of K via\n",
    "4. "
   ]
  },
  {
   "cell_type": "code",
   "execution_count": 11,
   "metadata": {
    "tags": [
     "imports"
    ]
   },
   "outputs": [],
   "source": [
    "import numpy as np\n",
    "from numpy.linalg import norm\n",
    "from scipy.linalg import fractional_matrix_power\n",
    "from scipy.spatial.distance import cdist\n",
    "from numpy.random import randn\n",
    "import matplotlib.pyplot as plt\n",
    "import plotly\n",
    "import plotly.graph_objects as go"
   ]
  },
  {
   "cell_type": "code",
   "execution_count": 12,
   "metadata": {
    "tags": [
     "imports"
    ]
   },
   "outputs": [],
   "source": [
    "# Temporarily add the project folder the system path to enable importing the src folder\n",
    "import sys\n",
    "sys.path.append(\"../\")\n",
    "from src.diffusion_maps import *\n",
    "from src.data import *\n",
    "from src.plotting import *"
   ]
  },
  {
   "cell_type": "code",
   "execution_count": 13,
   "metadata": {},
   "outputs": [],
   "source": [
    "X = generate_toy_ellipse(n_points=1000, noisiness=1/40, r1=1)"
   ]
  },
  {
   "cell_type": "code",
   "execution_count": 18,
   "metadata": {},
   "outputs": [],
   "source": [
    "X = generate_broken_ellipse(n_points=200, noisiness=1/50, r1=1)"
   ]
  },
  {
   "cell_type": "code",
   "execution_count": 14,
   "metadata": {},
   "outputs": [],
   "source": [
    "X = generate_toroidal_helix(n_points=1000, noisiness=1/40, R=6, r=2, n=5)"
   ]
  },
  {
   "cell_type": "code",
   "execution_count": null,
   "metadata": {},
   "outputs": [],
   "source": [
    "fig = px.scatter_3d(x=X[0,:], y=X[1,:], z=X[2,:])\n",
    "fig.show(renderer='iframe')"
   ]
  },
  {
   "cell_type": "code",
   "execution_count": null,
   "metadata": {},
   "outputs": [],
   "source": [
    "fig = go.Figure(data=go.Scatter(x=X[0,:],y=X[1,:], mode='markers'))\n",
    "fig.update_layout({'width' : 600, 'height' : 600})\n",
    "fig.show(renderer='iframe')"
   ]
  },
  {
   "cell_type": "code",
   "execution_count": 15,
   "metadata": {},
   "outputs": [],
   "source": [
    "D = diffusion_maps(X, rbf_kernel(epsilon=1/10), alpha=1)"
   ]
  },
  {
   "cell_type": "code",
   "execution_count": 16,
   "metadata": {},
   "outputs": [],
   "source": [
    "E = diffusion_embedding(D, k=2, t=1)"
   ]
  },
  {
   "cell_type": "code",
   "execution_count": 19,
   "metadata": {},
   "outputs": [
    {
     "ename": "IndexError",
     "evalue": "index 2 is out of bounds for axis 1 with size 2",
     "output_type": "error",
     "traceback": [
      "\u001b[0;31m---------------------------------------------------------------------------\u001b[0m",
      "\u001b[0;31mIndexError\u001b[0m                                Traceback (most recent call last)",
      "\u001b[0;32m<ipython-input-19-1d82c06c2da3>\u001b[0m in \u001b[0;36m<module>\u001b[0;34m\u001b[0m\n\u001b[1;32m      1\u001b[0m \u001b[0meig_number\u001b[0m \u001b[0;34m=\u001b[0m \u001b[0;36m2\u001b[0m\u001b[0;34m\u001b[0m\u001b[0;34m\u001b[0m\u001b[0m\n\u001b[0;32m----> 2\u001b[0;31m fig = px.scatter(x = range(len(E[:,eig_number])),\n\u001b[0m\u001b[1;32m      3\u001b[0m                  y = E[:,eig_number])\n\u001b[1;32m      4\u001b[0m \u001b[0mfig\u001b[0m\u001b[0;34m.\u001b[0m\u001b[0mshow\u001b[0m\u001b[0;34m(\u001b[0m\u001b[0mrenderer\u001b[0m\u001b[0;34m=\u001b[0m\u001b[0;34m'iframe'\u001b[0m\u001b[0;34m)\u001b[0m\u001b[0;34m\u001b[0m\u001b[0;34m\u001b[0m\u001b[0m\n",
      "\u001b[0;31mIndexError\u001b[0m: index 2 is out of bounds for axis 1 with size 2"
     ]
    }
   ],
   "source": [
    "eig_number = 2\n",
    "fig = px.scatter(x = range(len(E[:,eig_number])),\n",
    "                 y = E[:,eig_number])\n",
    "fig.show(renderer='iframe')"
   ]
  },
  {
   "cell_type": "code",
   "execution_count": 19,
   "metadata": {},
   "outputs": [
    {
     "data": {
      "text/plain": [
       "(1000, 2)"
      ]
     },
     "execution_count": 19,
     "metadata": {},
     "output_type": "execute_result"
    }
   ],
   "source": [
    "E.shape"
   ]
  },
  {
   "cell_type": "code",
   "execution_count": 9,
   "metadata": {},
   "outputs": [],
   "source": [
    "x1, x2 = E.T"
   ]
  },
  {
   "cell_type": "code",
   "execution_count": 10,
   "metadata": {},
   "outputs": [
    {
     "data": {
      "text/html": [
       "<iframe\n",
       "    scrolling=\"no\"\n",
       "    width=\"100%\"\n",
       "    height=\"545px\"\n",
       "    src=\"iframe_figures/figure_10.html\"\n",
       "    frameborder=\"0\"\n",
       "    allowfullscreen\n",
       "></iframe>\n"
      ]
     },
     "metadata": {},
     "output_type": "display_data"
    }
   ],
   "source": [
    "plot_2d_diffusion_embedding(x1, x2)"
   ]
  },
  {
   "cell_type": "markdown",
   "metadata": {},
   "source": [
    "We need to generate the matrix of pairwise similarities of our data vectors given some kernel function."
   ]
  },
  {
   "cell_type": "markdown",
   "metadata": {},
   "source": [
    "## The transformer class"
   ]
  },
  {
   "cell_type": "code",
   "execution_count": null,
   "metadata": {},
   "outputs": [],
   "source": [
    "class DiffusionMaps(BaseEstimator, TransformerMixin):\n",
    "    def __init__(data, kernel = rbf_kernel):\n",
    "        self.kernel = kernel\n",
    "        self.data = data\n",
    "        \n",
    "    def fit(X, y = None):\n",
    "        return self\n",
    "    \n",
    "    def transform(X):\n",
    "        return self"
   ]
  }
 ],
 "metadata": {
  "kernelspec": {
   "display_name": "Python 3",
   "language": "python",
   "name": "python3"
  },
  "language_info": {
   "codemirror_mode": {
    "name": "ipython",
    "version": 3
   },
   "file_extension": ".py",
   "mimetype": "text/x-python",
   "name": "python",
   "nbconvert_exporter": "python",
   "pygments_lexer": "ipython3",
   "version": "3.8.5"
  }
 },
 "nbformat": 4,
 "nbformat_minor": 4
}
