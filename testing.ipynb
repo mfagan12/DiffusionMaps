{
 "cells": [
  {
   "cell_type": "code",
   "execution_count": 2,
   "metadata": {},
   "outputs": [],
   "source": [
    "import numpy as np\n",
    "from numpy.linalg import norm"
   ]
  },
  {
   "cell_type": "code",
   "execution_count": 3,
   "metadata": {},
   "outputs": [],
   "source": [
    "from numpy.random import randn\n",
    "import matplotlib.pyplot as plt"
   ]
  },
  {
   "cell_type": "code",
   "execution_count": 4,
   "metadata": {},
   "outputs": [],
   "source": [
    "# Generate test date in the shape of a noisy circle\n",
    "X = np.linspace(0, 2*np.pi , 1000)\n",
    "X = np.array((np.cos(X), np.sin(X)))\n",
    "epsilon = randn(2, 1000) / 80\n",
    "X = X + epsilon"
   ]
  },
  {
   "cell_type": "code",
   "execution_count": 8,
   "metadata": {},
   "outputs": [],
   "source": [
    "X = np.reshape(X, (1,1000,2))\n",
    "ones = np.ones((1, 1000))\n",
    "Y = np.einsum('ijk, il -> jlk', X, ones)"
   ]
  },
  {
   "cell_type": "code",
   "execution_count": 9,
   "metadata": {},
   "outputs": [
    {
     "data": {
      "text/plain": [
       "(1000, 1000, 2)"
      ]
     },
     "execution_count": 9,
     "metadata": {},
     "output_type": "execute_result"
    }
   ],
   "source": [
    "Y.shape"
   ]
  },
  {
   "cell_type": "code",
   "execution_count": 12,
   "metadata": {},
   "outputs": [
    {
     "data": {
      "text/plain": [
       "array([[1.00391166, 1.00724671],\n",
       "       [1.00391166, 1.00724671],\n",
       "       [1.00391166, 1.00724671],\n",
       "       ...,\n",
       "       [1.00391166, 1.00724671],\n",
       "       [1.00391166, 1.00724671],\n",
       "       [1.00391166, 1.00724671]])"
      ]
     },
     "execution_count": 12,
     "metadata": {},
     "output_type": "execute_result"
    }
   ],
   "source": [
    "Y[0,:,:]"
   ]
  },
  {
   "cell_type": "code",
   "execution_count": 5,
   "metadata": {},
   "outputs": [],
   "source": [
    "def rbf_kernel(x, y, alpha):\n",
    "    return np.exp(-norm(x - y, 2)**2 / 2*alpha)"
   ]
  },
  {
   "cell_type": "code",
   "execution_count": 46,
   "metadata": {},
   "outputs": [],
   "source": [
    "X = np.reshape(X, (1,1000,2))"
   ]
  },
  {
   "cell_type": "code",
   "execution_count": 66,
   "metadata": {},
   "outputs": [],
   "source": [
    "Y = np.ones((1000,1)) * np.reshape(X, (1,1000,2))"
   ]
  },
  {
   "cell_type": "code",
   "execution_count": 67,
   "metadata": {},
   "outputs": [
    {
     "data": {
      "text/plain": [
       "(1, 1000, 2)"
      ]
     },
     "execution_count": 67,
     "metadata": {},
     "output_type": "execute_result"
    }
   ],
   "source": [
    "Y.shape"
   ]
  },
  {
   "cell_type": "markdown",
   "metadata": {},
   "source": [
    "We need to generate the matrix of pairwise similarities of our data vectors given some kernel function."
   ]
  },
  {
   "cell_type": "code",
   "execution_count": null,
   "metadata": {},
   "outputs": [],
   "source": [
    "def diffusion_matrix(data, kernel):\n",
    "    ones = np.ones((1, data[1]))\n",
    "    X1 = np.einsum()\n",
    "    X2 = np.einsum()\n",
    "    return K"
   ]
  },
  {
   "cell_type": "code",
   "execution_count": null,
   "metadata": {},
   "outputs": [],
   "source": [
    "class DiffusionMaps(BaseEstimator, TransformerMixin):\n",
    "    def __init__(data, kernel = rbf_kernel):\n",
    "        self.kernel = kernel\n",
    "        self.data = data\n",
    "        \n",
    "    def fit(X, y = None):\n",
    "        return self\n",
    "    \n",
    "    def transform():\n",
    "        return self"
   ]
  }
 ],
 "metadata": {
  "kernelspec": {
   "display_name": "Python 3",
   "language": "python",
   "name": "python3"
  },
  "language_info": {
   "codemirror_mode": {
    "name": "ipython",
    "version": 3
   },
   "file_extension": ".py",
   "mimetype": "text/x-python",
   "name": "python",
   "nbconvert_exporter": "python",
   "pygments_lexer": "ipython3",
   "version": "3.7.3"
  }
 },
 "nbformat": 4,
 "nbformat_minor": 4
}
